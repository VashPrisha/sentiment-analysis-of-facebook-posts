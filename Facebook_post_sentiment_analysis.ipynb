{
  "nbformat": 4,
  "nbformat_minor": 0,
  "metadata": {
    "colab": {
      "provenance": []
    },
    "kernelspec": {
      "name": "python3",
      "display_name": "Python 3"
    },
    "language_info": {
      "name": "python"
    }
  },
  "cells": [
    {
      "cell_type": "code",
      "source": [
        "import requests\n",
        "\n",
        "def fetch_facebook_posts(page_id, access_token):\n",
        "    base_url = f\"https://graph.facebook.com/v12.0/{page_id}/posts\"\n",
        "    params = {\n",
        "        'access_token': access_token,\n",
        "        'fields': 'message,created_time,id,comments.summary(true)'  # Adjusted fields\n",
        "    }\n",
        "    response = requests.get(base_url, params=params)\n",
        "    return response.json()\n",
        "\n",
        "# Use the correct page ID and access token\n",
        "page_id = \"368954602960988\"\n",
        "access_token = \"EAAOFNj9u9pQBOy3qBktDHJcukkg7wzfswoO8g3bel4ZCr1gb9wIUCp8qCmf2lvZCe2ZCNR0wLSNLpsXkgFZCVyvY0VX8mEpZCsB9ssnDSVpjD2Qhm0qZCtEmP8XDfVHkEvHLCAZCTCoK5Co9RZBvh21xbKo6UmhZADOj4vSwkx1aeLcUJuQ4l7VFGgrXwXcVGOasrVSTIrmYTfLgCFIzpCcVJdVFszDkW9W3P\"\n",
        "posts = fetch_facebook_posts(page_id, access_token)\n",
        "print(posts)"
      ],
      "metadata": {
        "colab": {
          "base_uri": "https://localhost:8080/"
        },
        "id": "apvcsamGqIOQ",
        "outputId": "f9588572-3962-4043-b1e1-7a4edbaf3991"
      },
      "execution_count": null,
      "outputs": [
        {
          "output_type": "stream",
          "name": "stdout",
          "text": [
            "{'data': [{'message': \"# importance of ML\\nAlthough machine learning is continuously evolving with so many new technologies, it is still used in various industries.\\n\\nMachine learning is important because it gives enterprises a view of trends in customer behavior and operational business patterns, as well as supports the development of new products. Many of today's leading companies, such as Facebook, Google, and Uber, make machine learning a central part of their operations. Machine learning has become a significant competitive differentiator for many companies.\\n\\nMachine learning has several practical applications that drive the kind of real business results - such as time and money savings - that have the potential to dramatically impact the future of your organization. In particular, we see tremendous impact occurring within the customer care industry, whereby machine learning is allowing people to get things done more quickly and efficiently. Through Virtual Assistant solutions, machine learning automates tasks that would otherwise need to be performed by a live agent - such as changing a password or checking an account balance. This frees up valuable agent time that can be used to focus on the kind of customer care that humans perform best: high touch, complicated decision-making that is not as easily handled by a machine. At Interactions, we further improve the process by eliminating the decision of whether a request should be sent to a human or a machine: unique Adaptive Understanding technology, the machine learns to be aware of its limitations, and bailout to humans when it has low confidence in providing the correct solution.\", 'created_time': '2024-06-18T09:55:54+0000', 'id': '368954602960988_122097858152371915', 'comments': {'data': [], 'summary': {'order': 'chronological', 'total_count': 0, 'can_comment': True}}}], 'paging': {'cursors': {'before': 'QVFIUllwblZASNzZAyMXhoalNtc18zOVBjOEFKUkxNSGZAJYTA0LTdRV2ozbk9VUF9ma2syX2ZAGRHJQeFdCbkpZAaGJNRkoyLWZA2OTZA3YzJLTGlEWFpBNU9YczJuT1hJaG4ybDZAnZA2JMVTJCSmR1aVBTVjJTWklNdGcwWUNhSi1iTWsyRmFMaHgxdTY1bDd2QllTNXFlcXh0QkRaSjJnQlRDQVJpUllweVNYM2JXaWhmWE1wMXhMc09NbUhVT3VuOWRBZAkJIaEN0SkRLenhqbUZAPU3VxZAExXcmtaejZAUQUE0ZAXJSQk5VMm1kUi1rUWpLVk5fQ0JrRTNEcnpIMDJrRDlHMHdJeFA0Yi1Cb0ZAWdGdFZAEhDQjNidlNaZAFVkN2pUQ2xtQkktM2FWS1RveWVhTmdRa3FpeF9pajFEdUpzT2ZAnUTgyRW1kLW5mOTZAZAS3M3S2lsNmgza2hoaXVGd1FNeFQyZAm5HaXFwVFh1ZAWM3N1pXb1ZAhZADg5RXdLRkVSUkxtajJGZA3dVUTZAqcjZAUZAEJEVG1MbEUzdzFEOHUtYm5ZAb09tWWNTX3kyUmxDV21UOGRySTAZD', 'after': 'QVFIUlZAibE5TZADcyVFlPSDVFa1FrYUhOWGJubDdDT1ZAveTFpQWJnNVdPX2FUNlhoZA3FZAeFpCXzk2amtXbnFTN0RieHhyQTQwc3NFMndRamJCSXZAOdUZADQVNzYXluTmJsZAzQ1SkFaWFFvbDNsQXBlcERIZAURwTEJfQXB3dm42RnFaNDNYX1BmaXFRX1BHMXpadXYyZAjA2NUhVOFM3R19FdURNNUp2NEUzdkJHZAjJyZAWltS0hPcW5wZAElwaTAtbi16bGNPam5fbUdXVDRPeE1LNkM0OFJ0R2ZAVQ3VWYmM0OVZAac2I4MEg1bXZAoaFZAqbVVsdHhNNW1YUWNQeUpGNkR1RURwajlHOTJvS2RQQkJtX1Q0Q3cycXNxQVlGNHpMbXZAXVkg5QnZAKSW40SkdWMndmYVdjZA3hyVXE5VlRFTW14c2w5UG1XV1pDdWNYZAHNxRzNCSVdPRkdRUTNlNWlBM1VPaVNOTVlkbVZAsS1BIWmNNRUp2S3hZAY3RMNkx6WmhFYl94aTVsV0g5Y3R1bUZAmVGNXcVhqSXJmczNSaXZAUaDBtNjVmZA2tLeWE4NXYzUlNoOVEZD'}}}\n"
          ]
        }
      ]
    },
    {
      "cell_type": "code",
      "source": [
        "!pip install pandas\n",
        "import requests\n",
        "import pandas as pd\n",
        "\n",
        "def fetch_facebook_posts(page_id, access_token):\n",
        "    base_url = f\"https://graph.facebook.com/v12.0/{page_id}/posts\"\n",
        "    params = {\n",
        "        'access_token': access_token,\n",
        "        'fields': 'message,created_time,id,comments.summary(true)'\n",
        "    }\n",
        "    response = requests.get(base_url, params=params)\n",
        "    return response.json()\n",
        "\n",
        "page_id = \"368954602960988\"\n",
        "access_token = \"EAAOFNj9u9pQBOy3qBktDHJcukkg7wzfswoO8g3bel4ZCr1gb9wIUCp8qCmf2lvZCe2ZCNR0wLSNLpsXkgFZCVyvY0VX8mEpZCsB9ssnDSVpjD2Qhm0qZCtEmP8XDfVHkEvHLCAZCTCoK5Co9RZBvh21xbKo6UmhZADOj4vSwkx1aeLcUJuQ4l7VFGgrXwXcVGOasrVSTIrmYTfLgCFIzpCcVJdVFszDkW9W3P\"\n",
        "\n",
        "posts = fetch_facebook_posts(page_id, access_token)\n",
        "\n",
        "if 'data' in posts:\n",
        "    posts_data = posts['data']\n",
        "else:\n",
        "    posts_data = []\n",
        "\n",
        "df = pd.DataFrame(posts_data)\n",
        "\n",
        "# Save the DataFrame to CSV\n",
        "df.to_csv('facebook_posts.csv', index=False)\n",
        "\n",
        "print(\"CSV file has been created successfully.\")\n"
      ],
      "metadata": {
        "colab": {
          "base_uri": "https://localhost:8080/"
        },
        "id": "y_hLQeBp0Mk8",
        "outputId": "b6d75e2e-fe1e-4d0a-88e8-501ebaefe384"
      },
      "execution_count": null,
      "outputs": [
        {
          "output_type": "stream",
          "name": "stdout",
          "text": [
            "Requirement already satisfied: pandas in /usr/local/lib/python3.10/dist-packages (2.0.3)\n",
            "Requirement already satisfied: python-dateutil>=2.8.2 in /usr/local/lib/python3.10/dist-packages (from pandas) (2.8.2)\n",
            "Requirement already satisfied: pytz>=2020.1 in /usr/local/lib/python3.10/dist-packages (from pandas) (2023.4)\n",
            "Requirement already satisfied: tzdata>=2022.1 in /usr/local/lib/python3.10/dist-packages (from pandas) (2024.1)\n",
            "Requirement already satisfied: numpy>=1.21.0 in /usr/local/lib/python3.10/dist-packages (from pandas) (1.25.2)\n",
            "Requirement already satisfied: six>=1.5 in /usr/local/lib/python3.10/dist-packages (from python-dateutil>=2.8.2->pandas) (1.16.0)\n",
            "CSV file has been created successfully.\n"
          ]
        }
      ]
    },
    {
      "cell_type": "code",
      "source": [
        "!pip install pandas textblob\n",
        "import pandas as pd\n",
        "from textblob import TextBlob\n",
        "\n",
        "# Load the CSV file\n",
        "df = pd.read_csv('facebook_posts.csv')\n",
        "\n",
        "# Function to calculate sentiment\n",
        "def get_sentiment(text):\n",
        "    if pd.isnull(text):\n",
        "        return None\n",
        "    analysis = TextBlob(text)\n",
        "    return analysis.sentiment.polarity\n",
        "\n",
        "# Apply sentiment analysis to the 'message' column\n",
        "df['sentiment'] = df['message'].apply(get_sentiment)\n",
        "\n",
        "# Save the updated DataFrame to a new CSV file\n",
        "df.to_csv('facebook_posts_sentiment.csv', index=False)\n",
        "\n",
        "print(\"Sentiment analysis completed and saved to 'facebook_posts_sentiment.csv'.\")\n"
      ],
      "metadata": {
        "colab": {
          "base_uri": "https://localhost:8080/"
        },
        "id": "iSvCtSyz0yRK",
        "outputId": "30d74d6d-be94-4b98-ee5c-fadc7dff9850"
      },
      "execution_count": null,
      "outputs": [
        {
          "output_type": "stream",
          "name": "stdout",
          "text": [
            "Requirement already satisfied: pandas in /usr/local/lib/python3.10/dist-packages (2.0.3)\n",
            "Requirement already satisfied: textblob in /usr/local/lib/python3.10/dist-packages (0.17.1)\n",
            "Requirement already satisfied: python-dateutil>=2.8.2 in /usr/local/lib/python3.10/dist-packages (from pandas) (2.8.2)\n",
            "Requirement already satisfied: pytz>=2020.1 in /usr/local/lib/python3.10/dist-packages (from pandas) (2023.4)\n",
            "Requirement already satisfied: tzdata>=2022.1 in /usr/local/lib/python3.10/dist-packages (from pandas) (2024.1)\n",
            "Requirement already satisfied: numpy>=1.21.0 in /usr/local/lib/python3.10/dist-packages (from pandas) (1.25.2)\n",
            "Requirement already satisfied: nltk>=3.1 in /usr/local/lib/python3.10/dist-packages (from textblob) (3.8.1)\n",
            "Requirement already satisfied: click in /usr/local/lib/python3.10/dist-packages (from nltk>=3.1->textblob) (8.1.7)\n",
            "Requirement already satisfied: joblib in /usr/local/lib/python3.10/dist-packages (from nltk>=3.1->textblob) (1.4.2)\n",
            "Requirement already satisfied: regex>=2021.8.3 in /usr/local/lib/python3.10/dist-packages (from nltk>=3.1->textblob) (2024.5.15)\n",
            "Requirement already satisfied: tqdm in /usr/local/lib/python3.10/dist-packages (from nltk>=3.1->textblob) (4.66.4)\n",
            "Requirement already satisfied: six>=1.5 in /usr/local/lib/python3.10/dist-packages (from python-dateutil>=2.8.2->pandas) (1.16.0)\n",
            "Sentiment analysis completed and saved to 'facebook_posts_sentiment.csv'.\n"
          ]
        }
      ]
    }
  ]
}